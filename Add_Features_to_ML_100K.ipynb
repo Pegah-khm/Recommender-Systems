{
  "cells": [
    {
      "cell_type": "markdown",
      "metadata": {
        "id": "view-in-github",
        "colab_type": "text"
      },
      "source": [
        "<a href=\"https://colab.research.google.com/github/Pegah-khm/Recommender-Systems/blob/main/Add_Features_to_ML_100K.ipynb\" target=\"_parent\"><img src=\"https://colab.research.google.com/assets/colab-badge.svg\" alt=\"Open In Colab\"/></a>"
      ]
    },
    {
      "cell_type": "markdown",
      "metadata": {
        "id": "Sk_JIKFWYOHH"
      },
      "source": [
        "# **Add features to ML-100K**\n",
        "\n",
        "So far, we have fetched movie additional data to ML-25M ratings. As we are using two versions of The MovieLens datasets, here we want to add those data to the smaller dataset called ML- 100K. Here are the additional features' names:\n",
        "\n",
        "1. Director\n",
        "1. Rotten Tomatoes Ratings\n",
        "1. IMDB Ratings\n",
        "1. IMDB Votes"
      ]
    },
    {
      "cell_type": "markdown",
      "metadata": {
        "id": "PKxhCESuYOHL"
      },
      "source": [
        "### **Import Dependencies**"
      ]
    },
    {
      "cell_type": "code",
      "execution_count": 4,
      "metadata": {
        "id": "FTo27ES3YOHM"
      },
      "outputs": [],
      "source": [
        "import numpy as np\n",
        "import pandas as pd\n",
        "import matplotlib.pyplot as plt\n",
        "import seaborn as sns\n",
        "from scipy.sparse.linalg import svds\n",
        "from scipy.sparse import csr_matrix\n",
        "from scipy.sparse import coo_matrix"
      ]
    },
    {
      "cell_type": "markdown",
      "metadata": {
        "id": "1l62jVA-YOHR"
      },
      "source": [
        "### **Load Data**"
      ]
    },
    {
      "cell_type": "code",
      "execution_count": null,
      "metadata": {
        "id": "_cGs84E3sfVY"
      },
      "outputs": [],
      "source": [
        "from google.colab import drive\n",
        "drive.mount('/content/drive')"
      ]
    },
    {
      "cell_type": "code",
      "execution_count": 2,
      "metadata": {
        "id": "efCZBdAdYOHR"
      },
      "outputs": [],
      "source": [
        "# Files Paths:\n",
        "path1 = '/content/drive/My Drive/Datasets/ml-25m/filtered_ratings.csv'\n",
        "path2 = '/content/drive/My Drive/Datasets/ml-25m/filtered_movies.csv'\n",
        "path3 = '/content/drive/My Drive/Datasets/ml-latest-small/ratings.csv'\n",
        "path4 = '/content/drive/My Drive/Datasets/ml-latest-small/movies.csv'"
      ]
    },
    {
      "cell_type": "code",
      "execution_count": 5,
      "metadata": {
        "id": "V39MUlCOYOHU"
      },
      "outputs": [],
      "source": [
        "small_ratings = pd.read_csv(path3)\n",
        "small_movies = pd.read_csv(path4)\n",
        "ratings = pd.read_csv(path1)\n",
        "movies = pd.read_csv(path2)"
      ]
    },
    {
      "cell_type": "code",
      "source": [
        "small_movies.info()"
      ],
      "metadata": {
        "colab": {
          "base_uri": "https://localhost:8080/"
        },
        "id": "nuLbs1awNsxM",
        "outputId": "fe8b44a1-f469-44c7-8ac4-b0f0eb0f6735"
      },
      "execution_count": 15,
      "outputs": [
        {
          "output_type": "stream",
          "name": "stdout",
          "text": [
            "<class 'pandas.core.frame.DataFrame'>\n",
            "Index: 5207 entries, 0 to 9723\n",
            "Data columns (total 7 columns):\n",
            " #   Column           Non-Null Count  Dtype  \n",
            "---  ------           --------------  -----  \n",
            " 0   movieId          5207 non-null   int64  \n",
            " 1   title            5207 non-null   object \n",
            " 2   genres           5207 non-null   object \n",
            " 3   Director         5207 non-null   object \n",
            " 4   Rotten Tomatoes  5207 non-null   float64\n",
            " 5   imdbRatings      5207 non-null   float64\n",
            " 6   imdbVotes        5207 non-null   float64\n",
            "dtypes: float64(3), int64(1), object(3)\n",
            "memory usage: 325.4+ KB\n"
          ]
        }
      ]
    },
    {
      "cell_type": "code",
      "source": [
        "movies.info()"
      ],
      "metadata": {
        "colab": {
          "base_uri": "https://localhost:8080/"
        },
        "id": "LU5OtmNbT4IF",
        "outputId": "382f5574-67ed-4832-d3e7-63e8faaff98d"
      },
      "execution_count": 8,
      "outputs": [
        {
          "output_type": "stream",
          "name": "stdout",
          "text": [
            "<class 'pandas.core.frame.DataFrame'>\n",
            "RangeIndex: 5418 entries, 0 to 5417\n",
            "Data columns (total 7 columns):\n",
            " #   Column           Non-Null Count  Dtype  \n",
            "---  ------           --------------  -----  \n",
            " 0   movieId          5418 non-null   int64  \n",
            " 1   title            5418 non-null   object \n",
            " 2   genres           5418 non-null   object \n",
            " 3   Director         5418 non-null   object \n",
            " 4   Rotten Tomatoes  5418 non-null   float64\n",
            " 5   imdbRatings      5418 non-null   float64\n",
            " 6   imdbVotes        5418 non-null   int64  \n",
            "dtypes: float64(2), int64(2), object(3)\n",
            "memory usage: 296.4+ KB\n"
          ]
        }
      ]
    },
    {
      "cell_type": "code",
      "source": [
        "small_movies = pd.merge(small_movies, movies[['movieId', 'Director', 'Rotten Tomatoes', 'imdbRatings', 'imdbVotes']],\n",
        "                  on='movieId', how='left')"
      ],
      "metadata": {
        "id": "Q0X0Co4enHgy"
      },
      "execution_count": 9,
      "outputs": []
    },
    {
      "cell_type": "code",
      "source": [
        "small_movies"
      ],
      "metadata": {
        "colab": {
          "base_uri": "https://localhost:8080/",
          "height": 423
        },
        "id": "50BarhOLnUm3",
        "outputId": "37891f67-38bf-421e-f0ca-30ce3d479e94"
      },
      "execution_count": 10,
      "outputs": [
        {
          "output_type": "execute_result",
          "data": {
            "text/plain": [
              "      movieId                                      title  \\\n",
              "0           1                           Toy Story (1995)   \n",
              "1           2                             Jumanji (1995)   \n",
              "2           3                    Grumpier Old Men (1995)   \n",
              "3           4                   Waiting to Exhale (1995)   \n",
              "4           5         Father of the Bride Part II (1995)   \n",
              "...       ...                                        ...   \n",
              "9737   193581  Black Butler: Book of the Atlantic (2017)   \n",
              "9738   193583               No Game No Life: Zero (2017)   \n",
              "9739   193585                               Flint (2017)   \n",
              "9740   193587        Bungo Stray Dogs: Dead Apple (2018)   \n",
              "9741   193609        Andrew Dice Clay: Dice Rules (1991)   \n",
              "\n",
              "                                           genres         Director  \\\n",
              "0     Adventure|Animation|Children|Comedy|Fantasy    John Lasseter   \n",
              "1                      Adventure|Children|Fantasy     Joe Johnston   \n",
              "2                                  Comedy|Romance    Howard Deutch   \n",
              "3                            Comedy|Drama|Romance  Forest Whitaker   \n",
              "4                                          Comedy    Charles Shyer   \n",
              "...                                           ...              ...   \n",
              "9737              Action|Animation|Comedy|Fantasy              NaN   \n",
              "9738                     Animation|Comedy|Fantasy              NaN   \n",
              "9739                                        Drama              NaN   \n",
              "9740                             Action|Animation              NaN   \n",
              "9741                                       Comedy              NaN   \n",
              "\n",
              "      Rotten Tomatoes  imdbRatings  imdbVotes  \n",
              "0               10.00          8.3  1064199.0  \n",
              "1                5.59          7.1   374898.0  \n",
              "2                2.89          6.6    29548.0  \n",
              "3                6.04          6.0    12108.0  \n",
              "4                5.68          6.1    41501.0  \n",
              "...               ...          ...        ...  \n",
              "9737              NaN          NaN        NaN  \n",
              "9738              NaN          NaN        NaN  \n",
              "9739              NaN          NaN        NaN  \n",
              "9740              NaN          NaN        NaN  \n",
              "9741              NaN          NaN        NaN  \n",
              "\n",
              "[9742 rows x 7 columns]"
            ],
            "text/html": [
              "\n",
              "  <div id=\"df-9d1ecc5a-59b8-4526-85f7-cc711a11178c\" class=\"colab-df-container\">\n",
              "    <div>\n",
              "<style scoped>\n",
              "    .dataframe tbody tr th:only-of-type {\n",
              "        vertical-align: middle;\n",
              "    }\n",
              "\n",
              "    .dataframe tbody tr th {\n",
              "        vertical-align: top;\n",
              "    }\n",
              "\n",
              "    .dataframe thead th {\n",
              "        text-align: right;\n",
              "    }\n",
              "</style>\n",
              "<table border=\"1\" class=\"dataframe\">\n",
              "  <thead>\n",
              "    <tr style=\"text-align: right;\">\n",
              "      <th></th>\n",
              "      <th>movieId</th>\n",
              "      <th>title</th>\n",
              "      <th>genres</th>\n",
              "      <th>Director</th>\n",
              "      <th>Rotten Tomatoes</th>\n",
              "      <th>imdbRatings</th>\n",
              "      <th>imdbVotes</th>\n",
              "    </tr>\n",
              "  </thead>\n",
              "  <tbody>\n",
              "    <tr>\n",
              "      <th>0</th>\n",
              "      <td>1</td>\n",
              "      <td>Toy Story (1995)</td>\n",
              "      <td>Adventure|Animation|Children|Comedy|Fantasy</td>\n",
              "      <td>John Lasseter</td>\n",
              "      <td>10.00</td>\n",
              "      <td>8.3</td>\n",
              "      <td>1064199.0</td>\n",
              "    </tr>\n",
              "    <tr>\n",
              "      <th>1</th>\n",
              "      <td>2</td>\n",
              "      <td>Jumanji (1995)</td>\n",
              "      <td>Adventure|Children|Fantasy</td>\n",
              "      <td>Joe Johnston</td>\n",
              "      <td>5.59</td>\n",
              "      <td>7.1</td>\n",
              "      <td>374898.0</td>\n",
              "    </tr>\n",
              "    <tr>\n",
              "      <th>2</th>\n",
              "      <td>3</td>\n",
              "      <td>Grumpier Old Men (1995)</td>\n",
              "      <td>Comedy|Romance</td>\n",
              "      <td>Howard Deutch</td>\n",
              "      <td>2.89</td>\n",
              "      <td>6.6</td>\n",
              "      <td>29548.0</td>\n",
              "    </tr>\n",
              "    <tr>\n",
              "      <th>3</th>\n",
              "      <td>4</td>\n",
              "      <td>Waiting to Exhale (1995)</td>\n",
              "      <td>Comedy|Drama|Romance</td>\n",
              "      <td>Forest Whitaker</td>\n",
              "      <td>6.04</td>\n",
              "      <td>6.0</td>\n",
              "      <td>12108.0</td>\n",
              "    </tr>\n",
              "    <tr>\n",
              "      <th>4</th>\n",
              "      <td>5</td>\n",
              "      <td>Father of the Bride Part II (1995)</td>\n",
              "      <td>Comedy</td>\n",
              "      <td>Charles Shyer</td>\n",
              "      <td>5.68</td>\n",
              "      <td>6.1</td>\n",
              "      <td>41501.0</td>\n",
              "    </tr>\n",
              "    <tr>\n",
              "      <th>...</th>\n",
              "      <td>...</td>\n",
              "      <td>...</td>\n",
              "      <td>...</td>\n",
              "      <td>...</td>\n",
              "      <td>...</td>\n",
              "      <td>...</td>\n",
              "      <td>...</td>\n",
              "    </tr>\n",
              "    <tr>\n",
              "      <th>9737</th>\n",
              "      <td>193581</td>\n",
              "      <td>Black Butler: Book of the Atlantic (2017)</td>\n",
              "      <td>Action|Animation|Comedy|Fantasy</td>\n",
              "      <td>NaN</td>\n",
              "      <td>NaN</td>\n",
              "      <td>NaN</td>\n",
              "      <td>NaN</td>\n",
              "    </tr>\n",
              "    <tr>\n",
              "      <th>9738</th>\n",
              "      <td>193583</td>\n",
              "      <td>No Game No Life: Zero (2017)</td>\n",
              "      <td>Animation|Comedy|Fantasy</td>\n",
              "      <td>NaN</td>\n",
              "      <td>NaN</td>\n",
              "      <td>NaN</td>\n",
              "      <td>NaN</td>\n",
              "    </tr>\n",
              "    <tr>\n",
              "      <th>9739</th>\n",
              "      <td>193585</td>\n",
              "      <td>Flint (2017)</td>\n",
              "      <td>Drama</td>\n",
              "      <td>NaN</td>\n",
              "      <td>NaN</td>\n",
              "      <td>NaN</td>\n",
              "      <td>NaN</td>\n",
              "    </tr>\n",
              "    <tr>\n",
              "      <th>9740</th>\n",
              "      <td>193587</td>\n",
              "      <td>Bungo Stray Dogs: Dead Apple (2018)</td>\n",
              "      <td>Action|Animation</td>\n",
              "      <td>NaN</td>\n",
              "      <td>NaN</td>\n",
              "      <td>NaN</td>\n",
              "      <td>NaN</td>\n",
              "    </tr>\n",
              "    <tr>\n",
              "      <th>9741</th>\n",
              "      <td>193609</td>\n",
              "      <td>Andrew Dice Clay: Dice Rules (1991)</td>\n",
              "      <td>Comedy</td>\n",
              "      <td>NaN</td>\n",
              "      <td>NaN</td>\n",
              "      <td>NaN</td>\n",
              "      <td>NaN</td>\n",
              "    </tr>\n",
              "  </tbody>\n",
              "</table>\n",
              "<p>9742 rows × 7 columns</p>\n",
              "</div>\n",
              "    <div class=\"colab-df-buttons\">\n",
              "\n",
              "  <div class=\"colab-df-container\">\n",
              "    <button class=\"colab-df-convert\" onclick=\"convertToInteractive('df-9d1ecc5a-59b8-4526-85f7-cc711a11178c')\"\n",
              "            title=\"Convert this dataframe to an interactive table.\"\n",
              "            style=\"display:none;\">\n",
              "\n",
              "  <svg xmlns=\"http://www.w3.org/2000/svg\" height=\"24px\" viewBox=\"0 -960 960 960\">\n",
              "    <path d=\"M120-120v-720h720v720H120Zm60-500h600v-160H180v160Zm220 220h160v-160H400v160Zm0 220h160v-160H400v160ZM180-400h160v-160H180v160Zm440 0h160v-160H620v160ZM180-180h160v-160H180v160Zm440 0h160v-160H620v160Z\"/>\n",
              "  </svg>\n",
              "    </button>\n",
              "\n",
              "  <style>\n",
              "    .colab-df-container {\n",
              "      display:flex;\n",
              "      gap: 12px;\n",
              "    }\n",
              "\n",
              "    .colab-df-convert {\n",
              "      background-color: #E8F0FE;\n",
              "      border: none;\n",
              "      border-radius: 50%;\n",
              "      cursor: pointer;\n",
              "      display: none;\n",
              "      fill: #1967D2;\n",
              "      height: 32px;\n",
              "      padding: 0 0 0 0;\n",
              "      width: 32px;\n",
              "    }\n",
              "\n",
              "    .colab-df-convert:hover {\n",
              "      background-color: #E2EBFA;\n",
              "      box-shadow: 0px 1px 2px rgba(60, 64, 67, 0.3), 0px 1px 3px 1px rgba(60, 64, 67, 0.15);\n",
              "      fill: #174EA6;\n",
              "    }\n",
              "\n",
              "    .colab-df-buttons div {\n",
              "      margin-bottom: 4px;\n",
              "    }\n",
              "\n",
              "    [theme=dark] .colab-df-convert {\n",
              "      background-color: #3B4455;\n",
              "      fill: #D2E3FC;\n",
              "    }\n",
              "\n",
              "    [theme=dark] .colab-df-convert:hover {\n",
              "      background-color: #434B5C;\n",
              "      box-shadow: 0px 1px 3px 1px rgba(0, 0, 0, 0.15);\n",
              "      filter: drop-shadow(0px 1px 2px rgba(0, 0, 0, 0.3));\n",
              "      fill: #FFFFFF;\n",
              "    }\n",
              "  </style>\n",
              "\n",
              "    <script>\n",
              "      const buttonEl =\n",
              "        document.querySelector('#df-9d1ecc5a-59b8-4526-85f7-cc711a11178c button.colab-df-convert');\n",
              "      buttonEl.style.display =\n",
              "        google.colab.kernel.accessAllowed ? 'block' : 'none';\n",
              "\n",
              "      async function convertToInteractive(key) {\n",
              "        const element = document.querySelector('#df-9d1ecc5a-59b8-4526-85f7-cc711a11178c');\n",
              "        const dataTable =\n",
              "          await google.colab.kernel.invokeFunction('convertToInteractive',\n",
              "                                                    [key], {});\n",
              "        if (!dataTable) return;\n",
              "\n",
              "        const docLinkHtml = 'Like what you see? Visit the ' +\n",
              "          '<a target=\"_blank\" href=https://colab.research.google.com/notebooks/data_table.ipynb>data table notebook</a>'\n",
              "          + ' to learn more about interactive tables.';\n",
              "        element.innerHTML = '';\n",
              "        dataTable['output_type'] = 'display_data';\n",
              "        await google.colab.output.renderOutput(dataTable, element);\n",
              "        const docLink = document.createElement('div');\n",
              "        docLink.innerHTML = docLinkHtml;\n",
              "        element.appendChild(docLink);\n",
              "      }\n",
              "    </script>\n",
              "  </div>\n",
              "\n",
              "\n",
              "<div id=\"df-ab167ea3-7b1d-41d1-8af6-2f1da0aae076\">\n",
              "  <button class=\"colab-df-quickchart\" onclick=\"quickchart('df-ab167ea3-7b1d-41d1-8af6-2f1da0aae076')\"\n",
              "            title=\"Suggest charts\"\n",
              "            style=\"display:none;\">\n",
              "\n",
              "<svg xmlns=\"http://www.w3.org/2000/svg\" height=\"24px\"viewBox=\"0 0 24 24\"\n",
              "     width=\"24px\">\n",
              "    <g>\n",
              "        <path d=\"M19 3H5c-1.1 0-2 .9-2 2v14c0 1.1.9 2 2 2h14c1.1 0 2-.9 2-2V5c0-1.1-.9-2-2-2zM9 17H7v-7h2v7zm4 0h-2V7h2v10zm4 0h-2v-4h2v4z\"/>\n",
              "    </g>\n",
              "</svg>\n",
              "  </button>\n",
              "\n",
              "<style>\n",
              "  .colab-df-quickchart {\n",
              "      --bg-color: #E8F0FE;\n",
              "      --fill-color: #1967D2;\n",
              "      --hover-bg-color: #E2EBFA;\n",
              "      --hover-fill-color: #174EA6;\n",
              "      --disabled-fill-color: #AAA;\n",
              "      --disabled-bg-color: #DDD;\n",
              "  }\n",
              "\n",
              "  [theme=dark] .colab-df-quickchart {\n",
              "      --bg-color: #3B4455;\n",
              "      --fill-color: #D2E3FC;\n",
              "      --hover-bg-color: #434B5C;\n",
              "      --hover-fill-color: #FFFFFF;\n",
              "      --disabled-bg-color: #3B4455;\n",
              "      --disabled-fill-color: #666;\n",
              "  }\n",
              "\n",
              "  .colab-df-quickchart {\n",
              "    background-color: var(--bg-color);\n",
              "    border: none;\n",
              "    border-radius: 50%;\n",
              "    cursor: pointer;\n",
              "    display: none;\n",
              "    fill: var(--fill-color);\n",
              "    height: 32px;\n",
              "    padding: 0;\n",
              "    width: 32px;\n",
              "  }\n",
              "\n",
              "  .colab-df-quickchart:hover {\n",
              "    background-color: var(--hover-bg-color);\n",
              "    box-shadow: 0 1px 2px rgba(60, 64, 67, 0.3), 0 1px 3px 1px rgba(60, 64, 67, 0.15);\n",
              "    fill: var(--button-hover-fill-color);\n",
              "  }\n",
              "\n",
              "  .colab-df-quickchart-complete:disabled,\n",
              "  .colab-df-quickchart-complete:disabled:hover {\n",
              "    background-color: var(--disabled-bg-color);\n",
              "    fill: var(--disabled-fill-color);\n",
              "    box-shadow: none;\n",
              "  }\n",
              "\n",
              "  .colab-df-spinner {\n",
              "    border: 2px solid var(--fill-color);\n",
              "    border-color: transparent;\n",
              "    border-bottom-color: var(--fill-color);\n",
              "    animation:\n",
              "      spin 1s steps(1) infinite;\n",
              "  }\n",
              "\n",
              "  @keyframes spin {\n",
              "    0% {\n",
              "      border-color: transparent;\n",
              "      border-bottom-color: var(--fill-color);\n",
              "      border-left-color: var(--fill-color);\n",
              "    }\n",
              "    20% {\n",
              "      border-color: transparent;\n",
              "      border-left-color: var(--fill-color);\n",
              "      border-top-color: var(--fill-color);\n",
              "    }\n",
              "    30% {\n",
              "      border-color: transparent;\n",
              "      border-left-color: var(--fill-color);\n",
              "      border-top-color: var(--fill-color);\n",
              "      border-right-color: var(--fill-color);\n",
              "    }\n",
              "    40% {\n",
              "      border-color: transparent;\n",
              "      border-right-color: var(--fill-color);\n",
              "      border-top-color: var(--fill-color);\n",
              "    }\n",
              "    60% {\n",
              "      border-color: transparent;\n",
              "      border-right-color: var(--fill-color);\n",
              "    }\n",
              "    80% {\n",
              "      border-color: transparent;\n",
              "      border-right-color: var(--fill-color);\n",
              "      border-bottom-color: var(--fill-color);\n",
              "    }\n",
              "    90% {\n",
              "      border-color: transparent;\n",
              "      border-bottom-color: var(--fill-color);\n",
              "    }\n",
              "  }\n",
              "</style>\n",
              "\n",
              "  <script>\n",
              "    async function quickchart(key) {\n",
              "      const quickchartButtonEl =\n",
              "        document.querySelector('#' + key + ' button');\n",
              "      quickchartButtonEl.disabled = true;  // To prevent multiple clicks.\n",
              "      quickchartButtonEl.classList.add('colab-df-spinner');\n",
              "      try {\n",
              "        const charts = await google.colab.kernel.invokeFunction(\n",
              "            'suggestCharts', [key], {});\n",
              "      } catch (error) {\n",
              "        console.error('Error during call to suggestCharts:', error);\n",
              "      }\n",
              "      quickchartButtonEl.classList.remove('colab-df-spinner');\n",
              "      quickchartButtonEl.classList.add('colab-df-quickchart-complete');\n",
              "    }\n",
              "    (() => {\n",
              "      let quickchartButtonEl =\n",
              "        document.querySelector('#df-ab167ea3-7b1d-41d1-8af6-2f1da0aae076 button');\n",
              "      quickchartButtonEl.style.display =\n",
              "        google.colab.kernel.accessAllowed ? 'block' : 'none';\n",
              "    })();\n",
              "  </script>\n",
              "</div>\n",
              "    </div>\n",
              "  </div>\n"
            ],
            "application/vnd.google.colaboratory.intrinsic+json": {
              "type": "dataframe",
              "variable_name": "small_movies",
              "summary": "{\n  \"name\": \"small_movies\",\n  \"rows\": 9742,\n  \"fields\": [\n    {\n      \"column\": \"movieId\",\n      \"properties\": {\n        \"dtype\": \"number\",\n        \"std\": 52160,\n        \"min\": 1,\n        \"max\": 193609,\n        \"num_unique_values\": 9742,\n        \"samples\": [\n          45635,\n          1373,\n          7325\n        ],\n        \"semantic_type\": \"\",\n        \"description\": \"\"\n      }\n    },\n    {\n      \"column\": \"title\",\n      \"properties\": {\n        \"dtype\": \"string\",\n        \"num_unique_values\": 9737,\n        \"samples\": [\n          \"Teenage Mutant Ninja Turtles (2014)\",\n          \"America's Sweethearts (2001)\",\n          \"Cast Away (2000)\"\n        ],\n        \"semantic_type\": \"\",\n        \"description\": \"\"\n      }\n    },\n    {\n      \"column\": \"genres\",\n      \"properties\": {\n        \"dtype\": \"category\",\n        \"num_unique_values\": 951,\n        \"samples\": [\n          \"Crime|Mystery|Romance|Thriller\",\n          \"Action|Adventure|Comedy|Western\",\n          \"Crime|Drama|Musical\"\n        ],\n        \"semantic_type\": \"\",\n        \"description\": \"\"\n      }\n    },\n    {\n      \"column\": \"Director\",\n      \"properties\": {\n        \"dtype\": \"category\",\n        \"num_unique_values\": 2105,\n        \"samples\": [\n          \"Norman Z. McLeod\",\n          \"Betty Thomas\",\n          \"Walter Hill, Francis Ford Coppola, Jack Sholder\"\n        ],\n        \"semantic_type\": \"\",\n        \"description\": \"\"\n      }\n    },\n    {\n      \"column\": \"Rotten Tomatoes\",\n      \"properties\": {\n        \"dtype\": \"number\",\n        \"std\": 1.8514229015541404,\n        \"min\": 1.0,\n        \"max\": 10.0,\n        \"num_unique_values\": 158,\n        \"samples\": [\n          1.45,\n          2.53,\n          7.0\n        ],\n        \"semantic_type\": \"\",\n        \"description\": \"\"\n      }\n    },\n    {\n      \"column\": \"imdbRatings\",\n      \"properties\": {\n        \"dtype\": \"number\",\n        \"std\": 0.9185354733436921,\n        \"min\": 1.9,\n        \"max\": 9.3,\n        \"num_unique_values\": 68,\n        \"samples\": [\n          9.3,\n          6.3,\n          6.1\n        ],\n        \"semantic_type\": \"\",\n        \"description\": \"\"\n      }\n    },\n    {\n      \"column\": \"imdbVotes\",\n      \"properties\": {\n        \"dtype\": \"number\",\n        \"std\": 223606.18862375684,\n        \"min\": 1005.0,\n        \"max\": 2879728.0,\n        \"num_unique_values\": 4978,\n        \"samples\": [\n          136823.0,\n          1179.0,\n          26106.0\n        ],\n        \"semantic_type\": \"\",\n        \"description\": \"\"\n      }\n    }\n  ]\n}"
            }
          },
          "metadata": {},
          "execution_count": 10
        }
      ]
    },
    {
      "cell_type": "code",
      "source": [
        "small_movies.info()"
      ],
      "metadata": {
        "colab": {
          "base_uri": "https://localhost:8080/"
        },
        "id": "OV1n5x00N4WH",
        "outputId": "b97fdca3-1fda-4413-a473-fb5b12dfcb28"
      },
      "execution_count": 11,
      "outputs": [
        {
          "output_type": "stream",
          "name": "stdout",
          "text": [
            "<class 'pandas.core.frame.DataFrame'>\n",
            "RangeIndex: 9742 entries, 0 to 9741\n",
            "Data columns (total 7 columns):\n",
            " #   Column           Non-Null Count  Dtype  \n",
            "---  ------           --------------  -----  \n",
            " 0   movieId          9742 non-null   int64  \n",
            " 1   title            9742 non-null   object \n",
            " 2   genres           9742 non-null   object \n",
            " 3   Director         5207 non-null   object \n",
            " 4   Rotten Tomatoes  5207 non-null   float64\n",
            " 5   imdbRatings      5207 non-null   float64\n",
            " 6   imdbVotes        5207 non-null   float64\n",
            "dtypes: float64(3), int64(1), object(3)\n",
            "memory usage: 532.9+ KB\n"
          ]
        }
      ]
    },
    {
      "cell_type": "code",
      "source": [
        "nan_counts = small_movies.isna().sum()\n",
        "print(nan_counts)"
      ],
      "metadata": {
        "colab": {
          "base_uri": "https://localhost:8080/"
        },
        "id": "h9oUQO71nwOL",
        "outputId": "9bfae493-4f2f-48d8-9adf-9d87d3d71623"
      },
      "execution_count": 12,
      "outputs": [
        {
          "output_type": "stream",
          "name": "stdout",
          "text": [
            "movieId               0\n",
            "title                 0\n",
            "genres                0\n",
            "Director           4535\n",
            "Rotten Tomatoes    4535\n",
            "imdbRatings        4535\n",
            "imdbVotes          4535\n",
            "dtype: int64\n"
          ]
        }
      ]
    },
    {
      "cell_type": "code",
      "source": [
        "# Filter the DataFrame to show only rows where all specified columns are NaN\n",
        "rows_with_all_nan = small_movies[small_movies[['Director', 'Rotten Tomatoes', 'imdbRatings', 'imdbVotes']].isna().all(axis=1)]\n",
        "\n",
        "print(rows_with_all_nan)"
      ],
      "metadata": {
        "colab": {
          "base_uri": "https://localhost:8080/"
        },
        "id": "Pwcoww0Tn6EG",
        "outputId": "49f6dcb6-6d3c-4578-937d-fb4a970f621c"
      },
      "execution_count": 13,
      "outputs": [
        {
          "output_type": "stream",
          "name": "stdout",
          "text": [
            "      movieId                                              title  \\\n",
            "28         29  City of Lost Children, The (Cité des enfants p...   \n",
            "31         32          Twelve Monkeys (a.k.a. 12 Monkeys) (1995)   \n",
            "45         49                       When Night Is Falling (1995)   \n",
            "48         53                                    Lamerica (1994)   \n",
            "52         58                  Postman, The (Postino, Il) (1994)   \n",
            "...       ...                                                ...   \n",
            "9737   193581          Black Butler: Book of the Atlantic (2017)   \n",
            "9738   193583                       No Game No Life: Zero (2017)   \n",
            "9739   193585                                       Flint (2017)   \n",
            "9740   193587                Bungo Stray Dogs: Dead Apple (2018)   \n",
            "9741   193609                Andrew Dice Clay: Dice Rules (1991)   \n",
            "\n",
            "                                      genres Director  Rotten Tomatoes  \\\n",
            "28    Adventure|Drama|Fantasy|Mystery|Sci-Fi      NaN              NaN   \n",
            "31                   Mystery|Sci-Fi|Thriller      NaN              NaN   \n",
            "45                             Drama|Romance      NaN              NaN   \n",
            "48                           Adventure|Drama      NaN              NaN   \n",
            "52                      Comedy|Drama|Romance      NaN              NaN   \n",
            "...                                      ...      ...              ...   \n",
            "9737         Action|Animation|Comedy|Fantasy      NaN              NaN   \n",
            "9738                Animation|Comedy|Fantasy      NaN              NaN   \n",
            "9739                                   Drama      NaN              NaN   \n",
            "9740                        Action|Animation      NaN              NaN   \n",
            "9741                                  Comedy      NaN              NaN   \n",
            "\n",
            "      imdbRatings  imdbVotes  \n",
            "28            NaN        NaN  \n",
            "31            NaN        NaN  \n",
            "45            NaN        NaN  \n",
            "48            NaN        NaN  \n",
            "52            NaN        NaN  \n",
            "...           ...        ...  \n",
            "9737          NaN        NaN  \n",
            "9738          NaN        NaN  \n",
            "9739          NaN        NaN  \n",
            "9740          NaN        NaN  \n",
            "9741          NaN        NaN  \n",
            "\n",
            "[4535 rows x 7 columns]\n"
          ]
        }
      ]
    },
    {
      "cell_type": "code",
      "source": [
        "# Remove all the NaN rows from small_movies dataset\n",
        "small_movies.dropna(inplace=True)"
      ],
      "metadata": {
        "id": "C0D5gLJQoX08"
      },
      "execution_count": 14,
      "outputs": []
    },
    {
      "cell_type": "code",
      "source": [
        "# Saving the editted dataset to a new csv file\n",
        "small_movies.to_csv('/content/drive/My Drive/Datasets/ml-latest-small/small_movies.csv', index=False)"
      ],
      "metadata": {
        "id": "Q8VjtZZRouK7"
      },
      "execution_count": null,
      "outputs": []
    },
    {
      "cell_type": "code",
      "source": [
        "# Cleaning ratings dataset according to the new movies dataset\n",
        "small_ratings = small_ratings[small_ratings['movieId'].isin(small_movies['movieId'])]"
      ],
      "metadata": {
        "id": "t6bqdp-W-dBF"
      },
      "execution_count": null,
      "outputs": []
    },
    {
      "cell_type": "code",
      "source": [
        "small_ratings.to_csv('/content/drive/My Drive/Datasets/ml-latest-small/small_ratings.csv', index=False)"
      ],
      "metadata": {
        "id": "PpZlS3yG-qBC"
      },
      "execution_count": null,
      "outputs": []
    }
  ],
  "metadata": {
    "colab": {
      "collapsed_sections": [
        "XzkvOF24YOH-"
      ],
      "provenance": [],
      "gpuType": "T4",
      "include_colab_link": true
    },
    "kernelspec": {
      "display_name": "Python 3",
      "name": "python3"
    },
    "language_info": {
      "codemirror_mode": {
        "name": "ipython",
        "version": 3
      },
      "file_extension": ".py",
      "mimetype": "text/x-python",
      "name": "python",
      "nbconvert_exporter": "python",
      "pygments_lexer": "ipython3",
      "version": "3.7.6"
    },
    "accelerator": "GPU"
  },
  "nbformat": 4,
  "nbformat_minor": 0
}